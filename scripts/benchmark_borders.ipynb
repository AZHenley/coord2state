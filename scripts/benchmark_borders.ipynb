{
 "cells": [
  {
   "cell_type": "markdown",
   "id": "e8d3de6a",
   "metadata": {},
   "source": [
    "# State Lookup Benchmark\n",
    "\n",
    "Loads the full-detail TIGER/Line shapefile for the 50 U.S. states + DC and a simplified version of their boundaries, generates random points within the continental U.S. bounding box, and compares lookup accuracy."
   ]
  },
  {
   "cell_type": "code",
   "execution_count": 149,
   "id": "4316e47c",
   "metadata": {},
   "outputs": [],
   "source": [
    "# Imports and file paths\n",
    "import geopandas as gpd\n",
    "from shapely.geometry import Point\n",
    "import numpy as np\n",
    "import time\n",
    "\n",
    "# Geometry file and USPS state codes\n",
    "full_shapefile = 'tl_2024_us_state.shp'\n",
    "VALID_CODES = { 'AL','AK','AZ','AR','CA','CO','CT','DE','FL','GA', 'HI','ID','IL','IN','IA','KS','KY','LA','ME','MD', 'MA','MI','MN','MS','MO','MT','NE','NV','NH','NJ', 'NM','NY','NC','ND','OH','OK','OR','PA','RI','SC', 'SD','TN','TX','UT','VT','VA','WA','WV','WI','WY','DC' }"
   ]
  },
  {
   "cell_type": "code",
   "execution_count": 150,
   "id": "cbfa2126",
   "metadata": {},
   "outputs": [
    {
     "name": "stdout",
     "output_type": "stream",
     "text": [
      "Loaded and filtered to 51 state geometries (50 + DC).\n"
     ]
    }
   ],
   "source": [
    "# 1. Load full-detail states and filter to 50 + DC\n",
    "states_full = gpd.read_file(full_shapefile).to_crs(epsg=4326)\n",
    "states_full = states_full[states_full['STUSPS'].isin(VALID_CODES)]\n",
    "print(f\"Loaded and filtered to {len(states_full)} state geometries (50 + DC).\")"
   ]
  },
  {
   "cell_type": "code",
   "execution_count": null,
   "id": "d8fa2ac2",
   "metadata": {},
   "outputs": [
    {
     "name": "stdout",
     "output_type": "stream",
     "text": [
      "Created simplified geometries with tolerance 0.1.\n"
     ]
    }
   ],
   "source": [
    "# 2. Simplify geometries\n",
    "tol = 0.01  # degrees (~100 m)\n",
    "states_simp = states_full.copy()\n",
    "states_simp['geometry'] = states_simp.geometry.simplify(\n",
    "    tolerance=tol, preserve_topology=True\n",
    ")\n",
    "print(f\"Created simplified geometries with tolerance {tol}.\")"
   ]
  },
  {
   "cell_type": "code",
   "execution_count": 152,
   "id": "e394e75d",
   "metadata": {},
   "outputs": [],
   "source": [
    "# 3. Build spatial indexes\n",
    "states_full_sindex = states_full.sindex\n",
    "states_simp_sindex = states_simp.sindex"
   ]
  },
  {
   "cell_type": "code",
   "execution_count": 153,
   "id": "4d53e1fc",
   "metadata": {},
   "outputs": [],
   "source": [
    "# 4. Generate random points in contiguous U.S. bounding box\n",
    "min_lon, max_lon = -125.0, -66.9\n",
    "min_lat, max_lat =   24.5,   49.5\n",
    "n_points = 1_000_000\n",
    "lons = np.random.uniform(min_lon, max_lon, n_points)\n",
    "lats = np.random.uniform(min_lat, max_lat, n_points)\n",
    "points = np.vstack((lons, lats)).T"
   ]
  },
  {
   "cell_type": "code",
   "execution_count": 154,
   "id": "3c8ba888",
   "metadata": {},
   "outputs": [],
   "source": [
    "# Lookup function using spatial index\n",
    "def lookup_state(idx, gdf, lon, lat):\n",
    "    possible_idx = list(idx.intersection((lon, lat, lon, lat)))\n",
    "    for i in possible_idx:\n",
    "        if gdf.geometry.iloc[i].contains(Point(lon, lat)):\n",
    "            return gdf.iloc[i]['NAME']\n",
    "    return None\n"
   ]
  },
  {
   "cell_type": "code",
   "execution_count": 155,
   "id": "de7710f7",
   "metadata": {},
   "outputs": [
    {
     "name": "stdout",
     "output_type": "stream",
     "text": [
      "Full-detail: 44.62s total, 44.62µs per lookup\n"
     ]
    }
   ],
   "source": [
    "# 5. Benchmark full-detail lookup\n",
    "start_full = time.time()\n",
    "results_full = [lookup_state(states_full_sindex, states_full, lon, lat) for lon, lat in points]\n",
    "time_full = time.time() - start_full\n",
    "print(f\"Full-detail: {time_full:.2f}s total, {time_full/n_points*1e6:.2f}µs per lookup\")"
   ]
  },
  {
   "cell_type": "code",
   "execution_count": 156,
   "id": "a7b536c4",
   "metadata": {},
   "outputs": [
    {
     "name": "stdout",
     "output_type": "stream",
     "text": [
      "Simplified: 21.65s total, 21.65µs per lookup\n"
     ]
    }
   ],
   "source": [
    "# 6. Benchmark simplified lookup\n",
    "start_simp = time.time()\n",
    "results_simp = [lookup_state(states_simp_sindex, states_simp, lon, lat) for lon, lat in points]\n",
    "time_simp = time.time() - start_simp\n",
    "print(f\"Simplified: {time_simp:.2f}s total, {time_simp/n_points*1e6:.2f}µs per lookup\")"
   ]
  },
  {
   "cell_type": "code",
   "execution_count": 157,
   "id": "13a1d607",
   "metadata": {},
   "outputs": [
    {
     "name": "stdout",
     "output_type": "stream",
     "text": [
      "Match rate: 99.347800% (993478/1000000)\n"
     ]
    }
   ],
   "source": [
    "# 7. Compare accuracy\n",
    "matches = sum(1 for f, s in zip(results_full, results_simp) if f == s)\n",
    "match_rate = matches / n_points * 100\n",
    "print(f\"Match rate: {match_rate:.6f}% ({matches}/{n_points})\")"
   ]
  }
 ],
 "metadata": {
  "kernelspec": {
   "display_name": "Python 3",
   "language": "python",
   "name": "python3"
  },
  "language_info": {
   "codemirror_mode": {
    "name": "ipython",
    "version": 3
   },
   "file_extension": ".py",
   "mimetype": "text/x-python",
   "name": "python",
   "nbconvert_exporter": "python",
   "pygments_lexer": "ipython3",
   "version": "3.13.1"
  }
 },
 "nbformat": 4,
 "nbformat_minor": 5
}
